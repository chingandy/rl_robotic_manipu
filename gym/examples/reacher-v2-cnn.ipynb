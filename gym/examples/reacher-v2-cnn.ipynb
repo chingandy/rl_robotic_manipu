{
 "cells": [
  {
   "cell_type": "markdown",
   "metadata": {},
   "source": [
    "### Reacher-v2 Environment with CNN"
   ]
  },
  {
   "cell_type": "code",
   "execution_count": null,
   "metadata": {},
   "outputs": [],
   "source": [
    "import gym\n",
    "env = gym.make('Reacher-v101')\n",
    "state = env.reset()"
   ]
  },
  {
   "cell_type": "code",
   "execution_count": null,
   "metadata": {},
   "outputs": [],
   "source": [
    "env.observation_space   # 49152 = 128x128x3"
   ]
  },
  {
   "cell_type": "code",
   "execution_count": null,
   "metadata": {},
   "outputs": [],
   "source": [
    "env.observation_space.shape"
   ]
  },
  {
   "cell_type": "code",
   "execution_count": null,
   "metadata": {},
   "outputs": [],
   "source": [
    "import sys\n",
    "import gym\n",
    "import pylab\n",
    "import random\n",
    "import numpy as np\n",
    "from collections import deque\n",
    "from keras.layers import Dense, Conv2D, Flatten\n",
    "from keras.optimizers import Adam\n",
    "from keras.models import Sequential, load_model\n",
    "import os\n",
    "from IPython.core.debugger import set_trace\n",
    "\n",
    "EPISODES = 1000 #Maximum number of episodes\n",
    "\n",
    "#DQN Agent for the reacher-v2\n",
    "#Q function approximation with NN, experience replay, and target network\n",
    "class DQNAgent:\n",
    "    #Constructor for the agent (invoked when DQN is first called in main)\n",
    "    def __init__(self, state_size, action_space):\n",
    "        self.check_solve = False\t#If True, stop if you satisfy solution condition\n",
    "        self.render = False #If you want to see Cartpole learning, then change to True\n",
    "        self.action_space = action_space\n",
    "        #Get size of state and action\n",
    "        self.state_size = state_size\n",
    "        self.action_size = len(action_space)\n",
    "        \n",
    "\n",
    "################################################################################\n",
    "################################################################################\n",
    "        #Set hyper parameters for the DQN. Do not adjust those labeled as Fixed.\n",
    "        self.discount_factor = 0.95\n",
    "        self.learning_rate = 0.005  # 0.005\n",
    "        self.epsilon = 0.02 #Fixed\n",
    "        self.batch_size = 32 #Fixed\n",
    "        self.memory_size = 500000  # 1000\n",
    "        self.train_start = 1000 #Fixed\n",
    "        self.target_update_frequency = 1\n",
    "################################################################################\n",
    "################################################################################\n",
    "\n",
    "        #Number of test states for Q value plots\n",
    "        self.test_state_no =10000 # 10000\n",
    "\n",
    "        #Create memory buffer using deque\n",
    "        self.memory = deque(maxlen=self.memory_size)\n",
    "\n",
    "        #Create main network and target network (using build_model defined below)\n",
    "        self.model = self.build_model()\n",
    "        self.target_model = self.build_model()\n",
    "\n",
    "        #Initialize target network\n",
    "        self.update_target_model()\n",
    "\n",
    "    #Approximate Q function using Neural Network\n",
    "    #State is the input and the Q Values are the output.\n",
    "###############################################################################\n",
    "###############################################################################\n",
    "        #Edit the Neural Network model here\n",
    "        #Tip: Consult https://keras.io/getting-started/sequential-model-guide/\n",
    "    def build_model(self):\n",
    "        model = Sequential()\n",
    "        model.add(Conv2D(32, (3, 3), activation='relu', input_shape=(128, 128, 3)))\n",
    "        model.add(Conv2D(32, (3, 3), activation='relu'))\n",
    "        model.add(Conv2D(64, (3, 3), activation='relu'))\n",
    "        model.add(Flatten())\n",
    "        model.add(Dense(4096, activation='relu'))\n",
    "        model.add(Dense(256, activation='relu'))\n",
    "        model.add(Dense(self.action_size, activation='relu'))\n",
    "        #\n",
    "        # self.model = Sequential()\n",
    "        # self.model.add(Dense(16, input_shape=(observation_space,), activation=\"relu\"))\n",
    "        # self.model.add(Dense(16, activation=\"relu\"))\n",
    "        # self.model.add(Dense(self.action_space, activation=\"linear\"))\n",
    "        # self.model.compile(loss=\"mse\", optimizer=Adam(lr=0.001))\n",
    "        return model\n",
    "###############################################################################\n",
    "###############################################################################\n",
    "#     set_trace()\n",
    "    #After some time interval update the target model to be same with model\n",
    "    def update_target_model(self):\n",
    "        self.target_model.set_weights(self.model.get_weights())\n",
    "\n",
    "    #Get action from model using epsilon-greedy policy\n",
    "    def get_action(self, state):\n",
    "###############################################################################\n",
    "###############################################################################\n",
    "        #Insert your e-greedy policy code here\n",
    "        #Tip 1: Use the random package to generate a random action.\n",
    "        #Tip 2: Use keras.model.predict() to compute Q-values from the state.\n",
    "        if np.random.rand() <= self.epsilon:\n",
    "            action =  random.randrange(self.action_size)\n",
    "        else:\n",
    "            q_value = self.model.predict(state)\n",
    "            action =  np.argmax(q_value[0])\n",
    "        # action = random.randrange(self.action_size)\n",
    "        return action\n",
    "###############################################################################\n",
    "###############################################################################\n",
    "    #Save sample <s,a,r,s'> to the replay memory\n",
    "    def append_sample(self, state, action, reward, next_state, done):\n",
    "        self.memory.append((state, action, reward, next_state, done)) #Add sample to the end of the list\n",
    "\n",
    "    #Sample <s,a,r,s'> from replay memory\n",
    "    def train_model(self):\n",
    "        if len(self.memory) < self.train_start: #Do not train if not enough memory\n",
    "            return\n",
    "        batch_size = min(self.batch_size, len(self.memory)) #Train on at most as many samples as you have in memory\n",
    "        mini_batch = random.sample(self.memory, batch_size) #Uniformly sample the memory buffer\n",
    "        #Preallocate network and target network input matrices.\n",
    "        update_input = np.zeros((batch_size, self.state_size)) #batch_size by state_size two-dimensional array (not matrix!)\n",
    "        update_target = np.zeros((batch_size, self.state_size)) #Same as above, but used for the target network\n",
    "        action, reward, done = [], [], [] #Empty arrays that will grow dynamically\n",
    "\n",
    "        for i in range(self.batch_size):\n",
    "            update_input[i] = mini_batch[i][0] #Allocate s(i) to the network input array from iteration i in the batch\n",
    "            action.append(mini_batch[i][1]) #Store a(i)\n",
    "            reward.append(mini_batch[i][2]) #Store r(i)\n",
    "            update_target[i] = mini_batch[i][3] #Allocate s'(i) for the target network array from iteration i in the batch\n",
    "            done.append(mini_batch[i][4])  #Store done(i)\n",
    "\n",
    "        target = self.model.predict(update_input) #Generate target values for training the inner loop network using the network model\n",
    "        target_val = self.target_model.predict(update_target) #Generate the target values for training the outer loop target network\n",
    "        #Q Learning: get maximum Q value at s' from target network\n",
    "###############################################################################\n",
    "###############################################################################\n",
    "        #Insert your Q-learning code here\n",
    "        #Tip 1: Observe that the Q-values are stored in the variable target\n",
    "        #Tip 2: What is the Q-value of the action taken at the last state of the episode?\n",
    "        for i in range(self.batch_size): #For every batch\n",
    "            # target[i][action[i]] = random.randint(0,1)\n",
    "            ############################################################### edited by andy\n",
    "#             action2ind = {(-0.0001, 0):0,(0.0001, 0):1,(0 , -0.0001):2,(0, 0.0001):3}\n",
    "#             action2ind = {(-0.0001, 0):0, (-0.01, 0):1,(0.0001, 0):2, (0.01, 0):3,(0 , -0.0001):4, (0, -0.01):5,(0, 0.0001):6, (0, 0.01):7}\n",
    "            \n",
    "#             action_tuple = tuple(action[i])\n",
    "#             action_ind = action2ind[action_tuple]\n",
    "            action_ind = self.action_space.index(action[i])\n",
    "            if done[i]:\n",
    "                target[i][action_ind]= reward[i]\n",
    "            else:\n",
    "                target[i][action_ind] = reward[i] + self.discount_factor * (\n",
    "                    np.amax(target_val[i]))\n",
    "            #################################################################\n",
    "#             if done[i]:\n",
    "#                 target[i][action[i]]= reward[i]\n",
    "#             else:\n",
    "#                 target[i][action[i]] = reward[i] + self.discount_factor * (\n",
    "#                     np.amax(target_val[i]))\n",
    "###############################################################################\n",
    "###############################################################################\n",
    "\n",
    "        #Train the inner loop network\n",
    "        self.model.fit(update_input, target, batch_size=self.batch_size,\n",
    "                       epochs=1, verbose=0)\n",
    "        return\n",
    "    \n",
    "    \n",
    "    def save_model(self, path_to_model, path_to_target):\n",
    "            self.model.save(path_to_model)\n",
    "            self.target_model.save(path_to_target)\n",
    "            return\n",
    "        \n",
    "    def restore_model(self, path_to_model, path_to_target):\n",
    "            self.model = load_model(path_to_model)\n",
    "            self.target_model = load_model(path_to_target)\n",
    "            return\n",
    "        \n",
    "    #Plots the score per episode as well as the maximum q value per episode, averaged over precollected states.\n",
    "    def plot_data(self, episodes, scores, max_q_mean):\n",
    "        pylab.figure(0)\n",
    "        pylab.plot(episodes, max_q_mean, 'b')\n",
    "        pylab.xlabel(\"Episodes\")\n",
    "        pylab.ylabel(\"Average Q Value\")\n",
    "        pylab.savefig(\"qvalues.png\")\n",
    "\n",
    "        pylab.figure(1)\n",
    "        pylab.plot(episodes, scores, 'b')\n",
    "        pylab.xlabel(\"Episodes\")\n",
    "        pylab.ylabel(\"Score\")\n",
    "        pylab.savefig(\"scores.png\")\n",
    "\n",
    "if __name__ == \"__main__\":\n",
    "    env = gym.make('Reacher-v101') # Reacher-v101 environment is the edited version of Reacher-v0 adapted for CNN\n",
    "    #Get state and action sizes from the environment\n",
    "    state_size = env.observation_space.shape[0]\n",
    "    print(\"state size: \", state_size)\n",
    "    action_size = len(env.action_space)\n",
    "#     action_size = env.action_space.n\n",
    "    #Create agent, see the DQNAgent __init__ method for details\n",
    "#     set_trace()\n",
    "    agent = DQNAgent(state_size, env.action_space)\n",
    "    \n",
    "    # load the pre-trained model\n",
    "    path_to_model = 'model_cnn.h5'\n",
    "    path_to_target = 'target_model_cnn.h5'\n",
    "    if os.path.isfile(path_to_model) and os.path.isfile(path_to_target):\n",
    "        print(\"Loading the pre-trained model......\")\n",
    "        agent.restore_model(path_to_model, path_to_target)\n",
    "    else:\n",
    "        print(\"Pre-trained model doesn't exist.\")\n",
    "    \n",
    "\n",
    "    # Collect test states for plotting Q values using uniform random policy\n",
    "    test_states = np.zeros((agent.test_state_no, state_size))\n",
    "    max_q = np.zeros((EPISODES, agent.test_state_no))\n",
    "    max_q_mean = np.zeros((EPISODES,1))\n",
    "    \n",
    "    done = True\n",
    "    for i in range(agent.test_state_no):\n",
    "        if done:\n",
    "            done = False\n",
    "            state = env.reset()\n",
    "            state = np.reshape(state, [1, state_size])\n",
    "            test_states[i] = state\n",
    "        else:\n",
    "            #############################\n",
    "#             action = random.randrange(action_size)\n",
    "\n",
    "            action_idx = random.randrange(action_size)\n",
    "            action = env.action_space[action_idx]\n",
    "            ###################################\n",
    "#             if done:\n",
    "#                 print(\"Before Done: \", done)\n",
    "            next_state, reward, done, info= env.step(action)\n",
    "#             if done:\n",
    "#                 print(\"Done: \", done)\n",
    "#                 print(\"Info: \", info)\n",
    "            next_state = np.reshape(next_state, [1, state_size])\n",
    "            test_states[i] = state\n",
    "            state = next_state\n",
    "\n",
    "\n",
    "    scores, episodes = [], [] #Create dynamically growing score and episode counters\n",
    "    for e in range(EPISODES):\n",
    "        done = False\n",
    "        score = 0\n",
    "        state = env.reset() #Initialize/reset the environment\n",
    "        state = np.reshape(state, [1, state_size]) #Reshape state so that to a 1 by state_size two-dimensional array ie. [x_1,x_2] to [[x_1,x_2]]\n",
    "        #Compute Q values for plotting\n",
    "        tmp = agent.model.predict(test_states)  # tmp.shape = 10000 * 4\n",
    "        max_q[e][:] = np.max(tmp, axis=1)\n",
    "        max_q_mean[e] = np.mean(max_q[e][:])\n",
    "        count = 0 \n",
    "        while not done:\n",
    "#             if count % 10 == 0:\n",
    "#                 print(\"counter: \", count)\n",
    "#             count += 1\n",
    "            if agent.render:\n",
    "                env.render() #Show cartpole animation\n",
    "\n",
    "            #Get action for the current state and go one step in environment\n",
    "            ###################################\n",
    "#             action = agent.get_action(state)\n",
    "            action_idx = agent.get_action(state)\n",
    "            action = env.action_space[action_idx]\n",
    "            ###################################\n",
    "            next_state, reward, done, _= env.step(action)\n",
    "            \n",
    "            next_state = np.reshape(next_state, [1, state_size]) #Reshape next_state similarly to state\n",
    "\n",
    "            #Save sample <s, a, r, s'> to the replay memory\n",
    "            agent.append_sample(state, action, reward, next_state, done)\n",
    "            #Training step\n",
    "            agent.train_model()\n",
    "            score += reward #Store episodic reward\n",
    "            state = next_state #Propagate state\n",
    "\n",
    "            if done:\n",
    "                #At the end of very episode, update the target network\n",
    "                if e % agent.target_update_frequency == 0:\n",
    "                    agent.update_target_model()\n",
    "                #Plot the play time for every episode\n",
    "                scores.append(score)\n",
    "                episodes.append(e)\n",
    "\n",
    "                print(\"episode:\", e, \"  score:\", score,\" q_value:\", max_q_mean[e],\"  memory length:\",len(agent.memory))\n",
    "\n",
    "                # if the mean of scores of last 100 episodes is bigger than 195\n",
    "                # stop training\n",
    "                if agent.check_solve:\n",
    "                    if np.mean(scores[-min(100, len(scores)):]) >= 195:\n",
    "                        print(\"solved after\", e-100, \"episodes\")\n",
    "                        agent.plot_data(episodes,scores,max_q_mean[:e+1])\n",
    "                        sys.exit()\n",
    "    agent.plot_data(episodes,scores,max_q_mean)\n",
    "    # Save the model\n",
    "    agent.save_model(path_to_model, path_to_target)\n",
    "    env.close()\n"
   ]
  },
  {
   "cell_type": "markdown",
   "metadata": {},
   "source": [
    "### Image of one state"
   ]
  },
  {
   "cell_type": "code",
   "execution_count": 1,
   "metadata": {},
   "outputs": [
    {
     "name": "stdout",
     "output_type": "stream",
     "text": [
      "Creating offscreen glfw\n",
      "State: (256, 256, 3)\n"
     ]
    }
   ],
   "source": [
    "import gym\n",
    "import numpy as np\n",
    "import random\n",
    "import matplotlib.pyplot as plt\n",
    "import cv2\n",
    "env = gym.make('Reacher-v101')\n",
    "state = env.reset()\n",
    "print(\"State:\",state.shape)"
   ]
  },
  {
   "cell_type": "markdown",
   "metadata": {},
   "source": [
    "### Save image with Matplotlib"
   ]
  },
  {
   "cell_type": "code",
   "execution_count": 8,
   "metadata": {},
   "outputs": [
    {
     "data": {
      "image/png": "[encoded data removed]",
      "text/plain": [
       "<Figure size 432x288 with 1 Axes>"
      ]
     },
     "metadata": {
      "needs_background": "light"
     },
     "output_type": "display_data"
    }
   ],
   "source": [
    "%matplotlib inline\n",
    "\n",
    "# Save the image without margin\n",
    "def save_image(data, cm, fn):\n",
    "   \n",
    "    sizes = np.shape(data)\n",
    "    height = float(sizes[0])\n",
    "    width = float(sizes[1])\n",
    "     \n",
    "    fig = plt.figure()\n",
    "    fig.set_size_inches(width/height, 1, forward=False)\n",
    "    ax = plt.Axes(fig, [0., 0., 1., 1.])\n",
    "    ax.set_axis_off()\n",
    "    fig.add_axes(ax)\n",
    " \n",
    "    ax.imshow(data, cmap=cm)\n",
    "    plt.savefig(fn, dpi = height) \n",
    "    plt.close()\n",
    "\n",
    "save_image(state, None, 'test_mat_no_marg.png')\n",
    "\n",
    "# Save the image with margin\n",
    "plt.axis('off')\n",
    "plt.imshow(state)\n",
    "plt.savefig('test_mat.png',transparent = True, bbox_inches = 'tight', pad_inches = 0)\n",
    "plt.show()\n"
   ]
  },
  {
   "cell_type": "markdown",
   "metadata": {},
   "source": [
    "### Save image with cv2"
   ]
  },
  {
   "cell_type": "code",
   "execution_count": 2,
   "metadata": {},
   "outputs": [
    {
     "data": {
      "text/plain": [
       "True"
      ]
     },
     "execution_count": 2,
     "metadata": {},
     "output_type": "execute_result"
    }
   ],
   "source": [
    "state = state.astype('uint8')\n",
    "cv2.imwrite('test_cv2_clr.png', cv2.cvtColor(state, cv2.COLOR_RGB2BGR))\n",
    "cv2.imwrite('test_cv2.png', state)"
   ]
  },
  {
   "cell_type": "code",
   "execution_count": 3,
   "metadata": {},
   "outputs": [],
   "source": [
    "#########################################################\n",
    "params = cv2.SimpleBlobDetector_Params()\n",
    "\n",
    "# Change thresholds\n",
    "params.minThreshold = 10\n",
    "params.maxThreshold = 256\n",
    "\n",
    "# Filter by Area\n",
    "params.filterByArea = True\n",
    "params.maxArea = 700\n",
    "params.minArea = 50\n",
    "\n",
    "# Filter by Circularity\n",
    "params.filterByCircularity = True\n",
    "params.minCircularity = 0.8\n",
    "\n",
    "# Filter by Convexity\n",
    "params.filterByConvexity = True\n",
    "params.minConvexity = 0.5\n",
    "\n",
    "# Filter by Inertia\n",
    "params.filterByInertia = True\n",
    "params.maxInertiaRatio = 10\n",
    "params.minInertiaRatio = 0.01\n",
    "\n",
    "# Filter by Color\n",
    "params.filterByColor = False\n",
    "#########################################################################"
   ]
  },
  {
   "cell_type": "markdown",
   "metadata": {},
   "source": [
    "### Show state directly"
   ]
  },
  {
   "cell_type": "code",
   "execution_count": 4,
   "metadata": {
    "scrolled": true
   },
   "outputs": [
    {
     "data": {
      "image/png": "[encoded data removed]",
      "text/plain": [
       "<Figure size 432x288 with 1 Axes>"
      ]
     },
     "metadata": {
      "needs_background": "light"
     },
     "output_type": "display_data"
    },
    {
     "name": "stdout",
     "output_type": "stream",
     "text": [
      "state:  (256, 256, 3) <class 'numpy.ndarray'>\n",
      "Keypoints:  [<KeyPoint 0x12265e420>]\n",
      "(72.5257339477539, 102.09203338623047)\n"
     ]
    }
   ],
   "source": [
    "im = state\n",
    "\n",
    "# scale_percent = 100 # percent of original size\n",
    "# width = int(im.shape[1] * scale_percent / 100)\n",
    "# height = int(im.shape[0] * scale_percent / 100)\n",
    "# dim = (width, height)\n",
    "# resize image\n",
    "# im = cv2.resize(im, dim, interpolation = cv2.INTER_AREA)\n",
    "# im = cv2.normalize(im,  None, 0, 255, cv2.NORM_MINMAX)\n",
    "%matplotlib inline\n",
    "plt.axis('off')\n",
    "plt.imshow(im)\n",
    "plt.show()\n",
    "detector = cv2.SimpleBlobDetector_create()\n",
    "print(\"state: \", im.shape, type(im))\n",
    "keypoints = detector.detect(im)\n",
    "print(\"Keypoints: \", keypoints)\n",
    "if keypoints:\n",
    "    print(keypoints[0].pt)"
   ]
  },
  {
   "cell_type": "markdown",
   "metadata": {},
   "source": [
    "### Read image by cv2 (test_mat.png)"
   ]
  },
  {
   "cell_type": "code",
   "execution_count": 25,
   "metadata": {},
   "outputs": [
    {
     "data": {
      "image/png": "[encoded data removed]",
      "text/plain": [
       "<Figure size 432x288 with 1 Axes>"
      ]
     },
     "metadata": {
      "needs_background": "light"
     },
     "output_type": "display_data"
    },
    {
     "name": "stdout",
     "output_type": "stream",
     "text": [
      "im_cv2:  (237, 243, 3) <class 'numpy.ndarray'>\n",
      "Max:  255\n",
      "Min:  0\n",
      "Keypoints:  [<KeyPoint 0x1083b4510>]\n",
      "(105.68199157714844, 142.40805053710938)\n"
     ]
    }
   ],
   "source": [
    "# im_cv2 = state\n",
    "# im_cv2[120:127,:,0] = [255]*128\n",
    "# im_cv2[120:127,:,1] = [255]*128\n",
    "# im_cv2[120:127,:,2] = [255]*128\n",
    "\n",
    "# im_cv2 = cv2.imread(\"test_cv2.png\")\n",
    "# im_cv2 = cv2.cvtColor(im_cv2, cv2.COLOR_BGR2RGB, 1);\n",
    "im_cv2 = cv2.imread(\"test_mat.png\")\n",
    "im_cv2 = cv2.cvtColor(im_cv2, cv2.COLOR_BGR2RGB, 1);\n",
    "%matplotlib inline\n",
    "plt.axis('off')\n",
    "plt.imshow(im_cv2)\n",
    "plt.show()\n",
    "detector = cv2.SimpleBlobDetector_create()\n",
    "print(\"im_cv2: \", im_cv2.shape, type(im_cv2))\n",
    "print(\"Max: \", im_cv2.max())\n",
    "print(\"Min: \", im_cv2.min())\n",
    "keypoints = detector.detect(im_cv2)\n",
    "print(\"Keypoints: \", keypoints)\n",
    "if keypoints:\n",
    "    print(keypoints[0].pt)"
   ]
  },
  {
   "cell_type": "markdown",
   "metadata": {},
   "source": [
    "### Read image by cv2 (test_mat_no_marg.png)"
   ]
  },
  {
   "cell_type": "code",
   "execution_count": 39,
   "metadata": {},
   "outputs": [
    {
     "name": "stdout",
     "output_type": "stream",
     "text": [
      "Max:  178\n",
      "Max:  178\n"
     ]
    },
    {
     "data": {
      "image/png": "[encoded data removed]",
      "text/plain": [
       "<Figure size 432x288 with 1 Axes>"
      ]
     },
     "metadata": {
      "needs_background": "light"
     },
     "output_type": "display_data"
    },
    {
     "name": "stdout",
     "output_type": "stream",
     "text": [
      "im_cv2:  (128, 128, 3) <class 'numpy.ndarray'>\n",
      "Max:  178\n",
      "Min:  0\n",
      "Keypoints:  []\n"
     ]
    }
   ],
   "source": [
    "im_cv2 = cv2.imread(\"test_mat_no_marg.png\")\n",
    "# im_cv2 = cv2.cvtColor(im_cv2, cv2.COLOR_BGR2RGB, 1);\n",
    "def rescale_img(arr):\n",
    "    return (arr - arr.min()) * (1/(arr.max() - arr.min()) * 255).astype('uint8')\n",
    "print(\"Max: \", im_cv2.max())\n",
    "im_cv2 = rescale_img(im_cv2)\n",
    "print(\"Max: \", im_cv2.max())\n",
    "%matplotlib inline\n",
    "plt.axis('off')\n",
    "plt.imshow(im_cv2)\n",
    "plt.show()\n",
    "detector = cv2.SimpleBlobDetector_create()\n",
    "print(\"im_cv2: \", im_cv2.shape, type(im_cv2))\n",
    "print(\"Max: \", im_cv2.max())\n",
    "print(\"Min: \", im_cv2.min())\n",
    "keypoints = detector.detect(im_cv2)\n",
    "print(\"Keypoints: \", keypoints)\n",
    "if keypoints:\n",
    "    print(keypoints[0].pt)"
   ]
  },
  {
   "cell_type": "code",
   "execution_count": 35,
   "metadata": {},
   "outputs": [
    {
     "name": "stdout",
     "output_type": "stream",
     "text": [
      "(2, 3)\n"
     ]
    }
   ],
   "source": [
    "x = np.array([[1,2,3], [2,3,4]])\n",
    "y = np.array([[1,2,3],[2, 3, 4]])\n",
    "np.array_equal(x, y)\n",
    "print(x.shape)\n",
    "# np.array_equal(state, im_cv2)"
   ]
  },
  {
   "cell_type": "markdown",
   "metadata": {},
   "source": [
    "### Read image by matplotlib"
   ]
  },
  {
   "cell_type": "code",
   "execution_count": 24,
   "metadata": {},
   "outputs": [
    {
     "name": "stdout",
     "output_type": "stream",
     "text": [
      "im_mat:  (128, 128, 4) <class 'numpy.ndarray'>\n"
     ]
    },
    {
     "ename": "error",
     "evalue": "OpenCV(3.4.5) /Users/travis/build/skvark/opencv-python/opencv/modules/features2d/src/blobdetector.cpp:322: error: (-210:Unsupported format or combination of formats) Blob detector only supports 8-bit images! in function 'detect'\n",
     "output_type": "error",
     "traceback": [
      "\u001b[0;31m---------------------------------------------------------------------------\u001b[0m",
      "\u001b[0;31merror\u001b[0m                                     Traceback (most recent call last)",
      "\u001b[0;32m<ipython-input-24-43cd6b25d0f3>\u001b[0m in \u001b[0;36m<module>\u001b[0;34m\u001b[0m\n\u001b[1;32m      9\u001b[0m \u001b[0;34m\u001b[0m\u001b[0m\n\u001b[1;32m     10\u001b[0m \u001b[0mdetector\u001b[0m \u001b[0;34m=\u001b[0m \u001b[0mcv2\u001b[0m\u001b[0;34m.\u001b[0m\u001b[0mSimpleBlobDetector_create\u001b[0m\u001b[0;34m(\u001b[0m\u001b[0;34m)\u001b[0m\u001b[0;34m\u001b[0m\u001b[0m\n\u001b[0;32m---> 11\u001b[0;31m \u001b[0mkeypoints\u001b[0m \u001b[0;34m=\u001b[0m \u001b[0mdetector\u001b[0m\u001b[0;34m.\u001b[0m\u001b[0mdetect\u001b[0m\u001b[0;34m(\u001b[0m\u001b[0mim_mat\u001b[0m\u001b[0;34m)\u001b[0m\u001b[0;34m\u001b[0m\u001b[0m\n\u001b[0m\u001b[1;32m     12\u001b[0m \u001b[0mprint\u001b[0m\u001b[0;34m(\u001b[0m\u001b[0;34m\"Keypoints: \"\u001b[0m\u001b[0;34m,\u001b[0m \u001b[0mkeypoints\u001b[0m\u001b[0;34m)\u001b[0m\u001b[0;34m\u001b[0m\u001b[0m\n\u001b[1;32m     13\u001b[0m \u001b[0;32mif\u001b[0m \u001b[0mkeypoints\u001b[0m\u001b[0;34m:\u001b[0m\u001b[0;34m\u001b[0m\u001b[0m\n",
      "\u001b[0;31merror\u001b[0m: OpenCV(3.4.5) /Users/travis/build/skvark/opencv-python/opencv/modules/features2d/src/blobdetector.cpp:322: error: (-210:Unsupported format or combination of formats) Blob detector only supports 8-bit images! in function 'detect'\n"
     ]
    }
   ],
   "source": [
    "import numpy as np\n",
    "im_mat = plt.imread(\"test_mat.png\")\n",
    "print(\"im_mat: \", im_mat.shape, type(im_mat))\n",
    "# im_mat = np.delete(im_mat, 3, axis=2)\n",
    "# print(\"im_mat: \", im_mat.shape, type(im_mat))\n",
    "\n",
    "im_mat = cv2.cvtColor(im_mat, cv2.COLOR_RGB2GRAY, 1);\n",
    "im_mat = cv2.cvtColor(im_mat, cv2.COLOR_GRAY2RGBA, 1);\n",
    "\n",
    "detector = cv2.SimpleBlobDetector_create()\n",
    "keypoints = detector.detect(im_mat)\n",
    "print(\"Keypoints: \", keypoints)\n",
    "if keypoints:\n",
    "    print(keypoints[0].pt)"
   ]
  },
  {
   "cell_type": "markdown",
   "metadata": {},
   "source": [
    "### See the difference of using different functions to read in the same image"
   ]
  },
  {
   "cell_type": "code",
   "execution_count": 144,
   "metadata": {},
   "outputs": [
    {
     "name": "stdout",
     "output_type": "stream",
     "text": [
      "<class 'numpy.uint8'>\n",
      "<class 'numpy.float32'>\n"
     ]
    }
   ],
   "source": [
    "im_1 = cv2.imread(\"test_mat.png\")\n",
    "print(type(im_1[:,:,1][0][0]))\n",
    "im_2 = plt.imread(\"test_mat.png\")\n",
    "print(type(im_2[:,:,1][0][0]))"
   ]
  },
  {
   "cell_type": "code",
   "execution_count": 145,
   "metadata": {},
   "outputs": [
    {
     "name": "stdout",
     "output_type": "stream",
     "text": [
      "<class 'numpy.uint8'>\n",
      "<class 'numpy.uint8'>\n"
     ]
    }
   ],
   "source": [
    "im_1 = cv2.imread(\"test_mat.png\")\n",
    "print(type(im_1[:,:,1][0][0]))\n",
    "im_2 = cv2.imread(\"test_cv2.png\")\n",
    "print(type(im_2[:,:,1][0][0]))"
   ]
  },
  {
   "cell_type": "code",
   "execution_count": 30,
   "metadata": {},
   "outputs": [
    {
     "name": "stdout",
     "output_type": "stream",
     "text": [
      "(128, 128, 3)\n",
      "[[158 158 158 ... 137 137 137]\n",
      " [158 158 120 ... 109 137 137]\n",
      " [158 124  44 ...  44 105 137]\n",
      " ...\n",
      " [137 105  44 ...  44 124 158]\n",
      " [137 137 109 ... 120 158 158]\n",
      " [137 137 137 ... 158 158 158]]\n"
     ]
    }
   ],
   "source": [
    "print(state.shape)\n",
    "print(state[:,:,1])"
   ]
  },
  {
   "cell_type": "code",
   "execution_count": 30,
   "metadata": {},
   "outputs": [
    {
     "name": "stdout",
     "output_type": "stream",
     "text": [
      "[[1 2 3]\n",
      " [4 5 6]\n",
      " [0 0 0]]\n"
     ]
    }
   ],
   "source": [
    "x = np.array([[1,2,3],[4,5,6]])\n",
    "x = np.vstack([x, [0,0,0]])\n",
    "print(x)"
   ]
  },
  {
   "cell_type": "code",
   "execution_count": null,
   "metadata": {},
   "outputs": [],
   "source": []
  }
 ],
 "metadata": {
  "kernelspec": {
   "display_name": ".venv",
   "language": "python",
   "name": ".venv"
  },
  "language_info": {
   "codemirror_mode": {
    "name": "ipython",
    "version": 3
   },
   "file_extension": ".py",
   "mimetype": "text/x-python",
   "name": "python",
   "nbconvert_exporter": "python",
   "pygments_lexer": "ipython3",
   "version": "3.7.0"
  }
 },
 "nbformat": 4,
 "nbformat_minor": 2
}
