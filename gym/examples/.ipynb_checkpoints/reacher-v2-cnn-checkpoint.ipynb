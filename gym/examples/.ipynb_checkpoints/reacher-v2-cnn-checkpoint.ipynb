{
 "cells": [
  {
   "cell_type": "markdown",
   "metadata": {},
   "source": [
    "### Reacher-v2 Environment with CNN"
   ]
  },
  {
   "cell_type": "code",
   "execution_count": 1,
   "metadata": {},
   "outputs": [
    {
     "name": "stdout",
     "output_type": "stream",
     "text": [
      "Creating offscreen glfw\n"
     ]
    }
   ],
   "source": [
    "import gym\n",
    "env = gym.make('Reacher-v101')\n",
    "state = env.reset()"
   ]
  },
  {
   "cell_type": "code",
   "execution_count": 2,
   "metadata": {},
   "outputs": [
    {
     "data": {
      "text/plain": [
       "Box(49152,)"
      ]
     },
     "execution_count": 2,
     "metadata": {},
     "output_type": "execute_result"
    }
   ],
   "source": [
    "env.observation_space   # 49152 = 128x128x3"
   ]
  },
  {
   "cell_type": "code",
   "execution_count": 3,
   "metadata": {},
   "outputs": [
    {
     "data": {
      "text/plain": [
       "(49152,)"
      ]
     },
     "execution_count": 3,
     "metadata": {},
     "output_type": "execute_result"
    }
   ],
   "source": [
    "env.observation_space.shape"
   ]
  },
  {
   "cell_type": "code",
   "execution_count": null,
   "metadata": {},
   "outputs": [
    {
     "name": "stdout",
     "output_type": "stream",
     "text": [
      "Creating offscreen glfw\n",
      "state size:  49152\n",
      "WARNING:tensorflow:From /Users/chingandywu/master-thesis/code/.venv/lib/python3.7/site-packages/tensorflow/python/framework/op_def_library.py:263: colocate_with (from tensorflow.python.framework.ops) is deprecated and will be removed in a future version.\n",
      "Instructions for updating:\n",
      "Colocations handled automatically by placer.\n"
     ]
    }
   ],
   "source": [
    "import sys\n",
    "import gym\n",
    "import pylab\n",
    "import random\n",
    "import numpy as np\n",
    "from collections import deque\n",
    "from keras.layers import Dense, Conv2D, Flatten\n",
    "from keras.optimizers import Adam\n",
    "from keras.models import Sequential, load_model\n",
    "import os\n",
    "from IPython.core.debugger import set_trace\n",
    "\n",
    "EPISODES = 1000 #Maximum number of episodes\n",
    "\n",
    "#DQN Agent for the reacher-v2\n",
    "#Q function approximation with NN, experience replay, and target network\n",
    "class DQNAgent:\n",
    "    #Constructor for the agent (invoked when DQN is first called in main)\n",
    "    def __init__(self, state_size, action_space):\n",
    "        self.check_solve = False\t#If True, stop if you satisfy solution condition\n",
    "        self.render = False #If you want to see Cartpole learning, then change to True\n",
    "        self.action_space = action_space\n",
    "        #Get size of state and action\n",
    "        self.state_size = state_size\n",
    "        self.action_size = len(action_space)\n",
    "        \n",
    "\n",
    "################################################################################\n",
    "################################################################################\n",
    "        #Set hyper parameters for the DQN. Do not adjust those labeled as Fixed.\n",
    "        self.discount_factor = 0.95\n",
    "        self.learning_rate = 0.005  # 0.005\n",
    "        self.epsilon = 0.02 #Fixed\n",
    "        self.batch_size = 32 #Fixed\n",
    "        self.memory_size = 500000  # 1000\n",
    "        self.train_start = 1000 #Fixed\n",
    "        self.target_update_frequency = 1\n",
    "################################################################################\n",
    "################################################################################\n",
    "\n",
    "        #Number of test states for Q value plots\n",
    "        self.test_state_no =10000 # 10000\n",
    "\n",
    "        #Create memory buffer using deque\n",
    "        self.memory = deque(maxlen=self.memory_size)\n",
    "\n",
    "        #Create main network and target network (using build_model defined below)\n",
    "        self.model = self.build_model()\n",
    "        self.target_model = self.build_model()\n",
    "\n",
    "        #Initialize target network\n",
    "        self.update_target_model()\n",
    "\n",
    "    #Approximate Q function using Neural Network\n",
    "    #State is the input and the Q Values are the output.\n",
    "###############################################################################\n",
    "###############################################################################\n",
    "        #Edit the Neural Network model here\n",
    "        #Tip: Consult https://keras.io/getting-started/sequential-model-guide/\n",
    "    def build_model(self):\n",
    "        model = Sequential()\n",
    "        model.add(Conv2D(32, (3, 3), activation='relu', input_shape=(128, 128, 3)))\n",
    "        model.add(Conv2D(32, (3, 3), activation='relu'))\n",
    "        model.add(Conv2D(64, (3, 3), activation='relu'))\n",
    "        model.add(Flatten())\n",
    "        model.add(Dense(4096, activation='relu'))\n",
    "        model.add(Dense(256, activation='relu'))\n",
    "        model.add(Dense(self.action_size, activation='relu'))\n",
    "        #\n",
    "        # self.model = Sequential()\n",
    "        # self.model.add(Dense(16, input_shape=(observation_space,), activation=\"relu\"))\n",
    "        # self.model.add(Dense(16, activation=\"relu\"))\n",
    "        # self.model.add(Dense(self.action_space, activation=\"linear\"))\n",
    "        # self.model.compile(loss=\"mse\", optimizer=Adam(lr=0.001))\n",
    "        return model\n",
    "###############################################################################\n",
    "###############################################################################\n",
    "#     set_trace()\n",
    "    #After some time interval update the target model to be same with model\n",
    "    def update_target_model(self):\n",
    "        self.target_model.set_weights(self.model.get_weights())\n",
    "\n",
    "    #Get action from model using epsilon-greedy policy\n",
    "    def get_action(self, state):\n",
    "###############################################################################\n",
    "###############################################################################\n",
    "        #Insert your e-greedy policy code here\n",
    "        #Tip 1: Use the random package to generate a random action.\n",
    "        #Tip 2: Use keras.model.predict() to compute Q-values from the state.\n",
    "        if np.random.rand() <= self.epsilon:\n",
    "            action =  random.randrange(self.action_size)\n",
    "        else:\n",
    "            q_value = self.model.predict(state)\n",
    "            action =  np.argmax(q_value[0])\n",
    "        # action = random.randrange(self.action_size)\n",
    "        return action\n",
    "###############################################################################\n",
    "###############################################################################\n",
    "    #Save sample <s,a,r,s'> to the replay memory\n",
    "    def append_sample(self, state, action, reward, next_state, done):\n",
    "        self.memory.append((state, action, reward, next_state, done)) #Add sample to the end of the list\n",
    "\n",
    "    #Sample <s,a,r,s'> from replay memory\n",
    "    def train_model(self):\n",
    "        if len(self.memory) < self.train_start: #Do not train if not enough memory\n",
    "            return\n",
    "        batch_size = min(self.batch_size, len(self.memory)) #Train on at most as many samples as you have in memory\n",
    "        mini_batch = random.sample(self.memory, batch_size) #Uniformly sample the memory buffer\n",
    "        #Preallocate network and target network input matrices.\n",
    "        update_input = np.zeros((batch_size, self.state_size)) #batch_size by state_size two-dimensional array (not matrix!)\n",
    "        update_target = np.zeros((batch_size, self.state_size)) #Same as above, but used for the target network\n",
    "        action, reward, done = [], [], [] #Empty arrays that will grow dynamically\n",
    "\n",
    "        for i in range(self.batch_size):\n",
    "            update_input[i] = mini_batch[i][0] #Allocate s(i) to the network input array from iteration i in the batch\n",
    "            action.append(mini_batch[i][1]) #Store a(i)\n",
    "            reward.append(mini_batch[i][2]) #Store r(i)\n",
    "            update_target[i] = mini_batch[i][3] #Allocate s'(i) for the target network array from iteration i in the batch\n",
    "            done.append(mini_batch[i][4])  #Store done(i)\n",
    "\n",
    "        target = self.model.predict(update_input) #Generate target values for training the inner loop network using the network model\n",
    "        target_val = self.target_model.predict(update_target) #Generate the target values for training the outer loop target network\n",
    "        #Q Learning: get maximum Q value at s' from target network\n",
    "###############################################################################\n",
    "###############################################################################\n",
    "        #Insert your Q-learning code here\n",
    "        #Tip 1: Observe that the Q-values are stored in the variable target\n",
    "        #Tip 2: What is the Q-value of the action taken at the last state of the episode?\n",
    "        for i in range(self.batch_size): #For every batch\n",
    "            # target[i][action[i]] = random.randint(0,1)\n",
    "            ############################################################### edited by andy\n",
    "#             action2ind = {(-0.0001, 0):0,(0.0001, 0):1,(0 , -0.0001):2,(0, 0.0001):3}\n",
    "#             action2ind = {(-0.0001, 0):0, (-0.01, 0):1,(0.0001, 0):2, (0.01, 0):3,(0 , -0.0001):4, (0, -0.01):5,(0, 0.0001):6, (0, 0.01):7}\n",
    "            \n",
    "#             action_tuple = tuple(action[i])\n",
    "#             action_ind = action2ind[action_tuple]\n",
    "            action_ind = self.action_space.index(action[i])\n",
    "            if done[i]:\n",
    "                target[i][action_ind]= reward[i]\n",
    "            else:\n",
    "                target[i][action_ind] = reward[i] + self.discount_factor * (\n",
    "                    np.amax(target_val[i]))\n",
    "            #################################################################\n",
    "#             if done[i]:\n",
    "#                 target[i][action[i]]= reward[i]\n",
    "#             else:\n",
    "#                 target[i][action[i]] = reward[i] + self.discount_factor * (\n",
    "#                     np.amax(target_val[i]))\n",
    "###############################################################################\n",
    "###############################################################################\n",
    "\n",
    "        #Train the inner loop network\n",
    "        self.model.fit(update_input, target, batch_size=self.batch_size,\n",
    "                       epochs=1, verbose=0)\n",
    "        return\n",
    "    \n",
    "    \n",
    "    def save_model(self, path_to_model, path_to_target):\n",
    "            self.model.save(path_to_model)\n",
    "            self.target_model.save(path_to_target)\n",
    "            return\n",
    "        \n",
    "    def restore_model(self, path_to_model, path_to_target):\n",
    "            self.model = load_model(path_to_model)\n",
    "            self.target_model = load_model(path_to_target)\n",
    "            return\n",
    "        \n",
    "    #Plots the score per episode as well as the maximum q value per episode, averaged over precollected states.\n",
    "    def plot_data(self, episodes, scores, max_q_mean):\n",
    "        pylab.figure(0)\n",
    "        pylab.plot(episodes, max_q_mean, 'b')\n",
    "        pylab.xlabel(\"Episodes\")\n",
    "        pylab.ylabel(\"Average Q Value\")\n",
    "        pylab.savefig(\"qvalues.png\")\n",
    "\n",
    "        pylab.figure(1)\n",
    "        pylab.plot(episodes, scores, 'b')\n",
    "        pylab.xlabel(\"Episodes\")\n",
    "        pylab.ylabel(\"Score\")\n",
    "        pylab.savefig(\"scores.png\")\n",
    "\n",
    "if __name__ == \"__main__\":\n",
    "    env = gym.make('Reacher-v101') # Reacher-v101 environment is the edited version of Reacher-v0 adapted for CNN\n",
    "    #Get state and action sizes from the environment\n",
    "    state_size = env.observation_space.shape[0]\n",
    "    print(\"state size: \", state_size)\n",
    "    action_size = len(env.action_space)\n",
    "#     action_size = env.action_space.n\n",
    "    #Create agent, see the DQNAgent __init__ method for details\n",
    "#     set_trace()\n",
    "    agent = DQNAgent(state_size, env.action_space)\n",
    "    \n",
    "    # load the pre-trained model\n",
    "    path_to_model = 'model_cnn.h5'\n",
    "    path_to_target = 'target_model_cnn.h5'\n",
    "    if os.path.isfile(path_to_model) and os.path.isfile(path_to_target):\n",
    "        print(\"Loading the pre-trained model......\")\n",
    "        agent.restore_model(path_to_model, path_to_target)\n",
    "    else:\n",
    "        print(\"Pre-trained model doesn't exist.\")\n",
    "    \n",
    "\n",
    "    # Collect test states for plotting Q values using uniform random policy\n",
    "    test_states = np.zeros((agent.test_state_no, state_size))\n",
    "    max_q = np.zeros((EPISODES, agent.test_state_no))\n",
    "    max_q_mean = np.zeros((EPISODES,1))\n",
    "    \n",
    "    done = True\n",
    "    for i in range(agent.test_state_no):\n",
    "        if done:\n",
    "            done = False\n",
    "            state = env.reset()\n",
    "            state = np.reshape(state, [1, state_size])\n",
    "            test_states[i] = state\n",
    "        else:\n",
    "            #############################\n",
    "#             action = random.randrange(action_size)\n",
    "\n",
    "            action_idx = random.randrange(action_size)\n",
    "            action = env.action_space[action_idx]\n",
    "            ###################################\n",
    "#             if done:\n",
    "#                 print(\"Before Done: \", done)\n",
    "            next_state, reward, done, info= env.step(action)\n",
    "#             if done:\n",
    "#                 print(\"Done: \", done)\n",
    "#                 print(\"Info: \", info)\n",
    "            next_state = np.reshape(next_state, [1, state_size])\n",
    "            test_states[i] = state\n",
    "            state = next_state\n",
    "\n",
    "\n",
    "    scores, episodes = [], [] #Create dynamically growing score and episode counters\n",
    "    for e in range(EPISODES):\n",
    "        done = False\n",
    "        score = 0\n",
    "        state = env.reset() #Initialize/reset the environment\n",
    "        state = np.reshape(state, [1, state_size]) #Reshape state so that to a 1 by state_size two-dimensional array ie. [x_1,x_2] to [[x_1,x_2]]\n",
    "        #Compute Q values for plotting\n",
    "        tmp = agent.model.predict(test_states)  # tmp.shape = 10000 * 4\n",
    "        max_q[e][:] = np.max(tmp, axis=1)\n",
    "        max_q_mean[e] = np.mean(max_q[e][:])\n",
    "        count = 0 \n",
    "        while not done:\n",
    "#             if count % 10 == 0:\n",
    "#                 print(\"counter: \", count)\n",
    "#             count += 1\n",
    "            if agent.render:\n",
    "                env.render() #Show cartpole animation\n",
    "\n",
    "            #Get action for the current state and go one step in environment\n",
    "            ###################################\n",
    "#             action = agent.get_action(state)\n",
    "            action_idx = agent.get_action(state)\n",
    "            action = env.action_space[action_idx]\n",
    "            ###################################\n",
    "            next_state, reward, done, _= env.step(action)\n",
    "            \n",
    "            next_state = np.reshape(next_state, [1, state_size]) #Reshape next_state similarly to state\n",
    "\n",
    "            #Save sample <s, a, r, s'> to the replay memory\n",
    "            agent.append_sample(state, action, reward, next_state, done)\n",
    "            #Training step\n",
    "            agent.train_model()\n",
    "            score += reward #Store episodic reward\n",
    "            state = next_state #Propagate state\n",
    "\n",
    "            if done:\n",
    "                #At the end of very episode, update the target network\n",
    "                if e % agent.target_update_frequency == 0:\n",
    "                    agent.update_target_model()\n",
    "                #Plot the play time for every episode\n",
    "                scores.append(score)\n",
    "                episodes.append(e)\n",
    "\n",
    "                print(\"episode:\", e, \"  score:\", score,\" q_value:\", max_q_mean[e],\"  memory length:\",len(agent.memory))\n",
    "\n",
    "                # if the mean of scores of last 100 episodes is bigger than 195\n",
    "                # stop training\n",
    "                if agent.check_solve:\n",
    "                    if np.mean(scores[-min(100, len(scores)):]) >= 195:\n",
    "                        print(\"solved after\", e-100, \"episodes\")\n",
    "                        agent.plot_data(episodes,scores,max_q_mean[:e+1])\n",
    "                        sys.exit()\n",
    "    agent.plot_data(episodes,scores,max_q_mean)\n",
    "    # Save the model\n",
    "    agent.save_model(path_to_model, path_to_target)\n",
    "    env.close()\n"
   ]
  },
  {
   "cell_type": "markdown",
   "metadata": {},
   "source": [
    "### Show the images "
   ]
  },
  {
   "cell_type": "code",
   "execution_count": 3,
   "metadata": {},
   "outputs": [
    {
     "name": "stdout",
     "output_type": "stream",
     "text": [
      "Creating offscreen glfw\n",
      "(128, 128, 3)\n",
      "None\n"
     ]
    },
    {
     "data": {
      "image/png": "[encoded data removed]",
      "text/plain": [
       "<Figure size 432x288 with 1 Axes>"
      ]
     },
     "metadata": {
      "needs_background": "light"
     },
     "output_type": "display_data"
    }
   ],
   "source": [
    "import gym\n",
    "import random\n",
    "import matplotlib.pyplot as plt\n",
    "import scipy.misc\n",
    "env = gym.make('Reacher-v101')\n",
    "state = env.reset()\n",
    "print(state.shape)\n",
    "\n",
    "# %matplotlib inline\n",
    "# plt.axis('off')\n",
    "# plt.imshow(state)\n",
    "# plt.savefig('test.png', bbox_inches=0)\n",
    "# plt.show()\n"
   ]
  },
  {
   "cell_type": "code",
   "execution_count": 16,
   "metadata": {},
   "outputs": [
    {
     "name": "stdout",
     "output_type": "stream",
     "text": [
      "Creating offscreen glfw\n"
     ]
    },
    {
     "data": {
      "image/png": "[encoded data removed]",
      "text/plain": [
       "<Figure size 432x288 with 1 Axes>"
      ]
     },
     "metadata": {
      "needs_background": "light"
     },
     "output_type": "display_data"
    },
    {
     "name": "stdout",
     "output_type": "stream",
     "text": [
      "(128, 128, 3)\n"
     ]
    },
    {
     "ename": "IndexError",
     "evalue": "list index out of range",
     "output_type": "error",
     "traceback": [
      "\u001b[0;31m---------------------------------------------------------------------------\u001b[0m",
      "\u001b[0;31mIndexError\u001b[0m                                Traceback (most recent call last)",
      "\u001b[0;32m<ipython-input-16-6c4b90f1c972>\u001b[0m in \u001b[0;36m<module>\u001b[0;34m\u001b[0m\n\u001b[1;32m     45\u001b[0m \u001b[0mdetector\u001b[0m \u001b[0;34m=\u001b[0m \u001b[0mcv2\u001b[0m\u001b[0;34m.\u001b[0m\u001b[0mSimpleBlobDetector_create\u001b[0m\u001b[0;34m(\u001b[0m\u001b[0;34m)\u001b[0m\u001b[0;34m\u001b[0m\u001b[0m\n\u001b[1;32m     46\u001b[0m \u001b[0mkeypoints\u001b[0m \u001b[0;34m=\u001b[0m \u001b[0mdetector\u001b[0m\u001b[0;34m.\u001b[0m\u001b[0mdetect\u001b[0m\u001b[0;34m(\u001b[0m\u001b[0mimg_bgr\u001b[0m\u001b[0;34m)\u001b[0m\u001b[0;34m\u001b[0m\u001b[0m\n\u001b[0;32m---> 47\u001b[0;31m \u001b[0mprint\u001b[0m\u001b[0;34m(\u001b[0m\u001b[0mkeypoints\u001b[0m\u001b[0;34m[\u001b[0m\u001b[0;36m0\u001b[0m\u001b[0;34m]\u001b[0m\u001b[0;34m.\u001b[0m\u001b[0mpt\u001b[0m\u001b[0;34m)\u001b[0m\u001b[0;34m\u001b[0m\u001b[0m\n\u001b[0m",
      "\u001b[0;31mIndexError\u001b[0m: list index out of range"
     ]
    }
   ],
   "source": [
    "import gym\n",
    "import random\n",
    "import matplotlib.pyplot as plt\n",
    "import scipy.misc\n",
    "import cv2\n",
    "\n",
    "# set up the environment\n",
    "env = gym.make('Reacher-v101')\n",
    "state = env.reset()\n",
    "%matplotlib inline\n",
    "plt.axis('off')\n",
    "plt.imshow(state)\n",
    "plt.savefig('test1.png', bbox_inches=0)\n",
    "plt.show()\n",
    "\n",
    "print(state.shape)\n",
    "\n",
    "# detect the blob's position directly from np.ndarray\n",
    "# img = scipy.misc.toimage(state)\n",
    "\n",
    "params = cv2.SimpleBlobDetector_Params()\n",
    "\n",
    "# Change thresholds\n",
    "params.minThreshold = 100\n",
    "params.maxThreshold = 200\n",
    "\n",
    "# Filter by Area\n",
    "params.filterByArea = True\n",
    "params.maxArea = 10\n",
    "\n",
    "# Filter by Circularity\n",
    "params.filterByCircularity = True\n",
    "params.minCircularity = 0.8\n",
    "\n",
    "# Filter by Convexity\n",
    "params.filterByConvexity = True\n",
    "params.minConvexity = 0.87\n",
    "\n",
    "# Filter by Inertia\n",
    "params.filterByInertia = True\n",
    "params.minInertiaRatio = 0.01\n",
    "# im = cv2.imread(\"test1.png\", cv2.IMREAD_GRAYSCALE)\n",
    "r,g,b = cv2.split(state)\n",
    "print(r)\n",
    "img_bgr = cv2.merge([b,g,r])\n",
    "detector = cv2.SimpleBlobDetector_create()\n",
    "keypoints = detector.detect(img_bgr)\n",
    "print(keypoints[0].pt)\n"
   ]
  },
  {
   "cell_type": "code",
   "execution_count": null,
   "metadata": {},
   "outputs": [],
   "source": [
    "%matplotlib inline\n",
    "import matplotlib.pyplot as plt\n",
    "fig = plt.figure(figsize = (50,50))\n",
    "for i in range(len(images)):\n",
    "    ax = fig.add_subplot(1, 10, i + 1)\n",
    "    ax.imshow(images[i])\n",
    "plt.show()\n",
    " \n",
    "# plt.imshow(data, interpolation='nearest')\n",
    "\n",
    "# w=10\n",
    "# h=10\n",
    "# fig=plt.figure(figsize=(8, 8))\n",
    "# columns = 5\n",
    "# rows = 2\n",
    "# for i in range(1, columns*rows +1):\n",
    "#     img = np.random.randint(10, size=(h,w))\n",
    "#     fig.add_subplot(rows, columns, i)\n",
    "#     plt.imshow(img)\n",
    "# plt.show()"
   ]
  },
  {
   "cell_type": "code",
   "execution_count": null,
   "metadata": {},
   "outputs": [],
   "source": []
  },
  {
   "cell_type": "code",
   "execution_count": null,
   "metadata": {},
   "outputs": [],
   "source": []
  }
 ],
 "metadata": {
  "kernelspec": {
   "display_name": ".venv",
   "language": "python",
   "name": ".venv"
  },
  "language_info": {
   "codemirror_mode": {
    "name": "ipython",
    "version": 3
   },
   "file_extension": ".py",
   "mimetype": "text/x-python",
   "name": "python",
   "nbconvert_exporter": "python",
   "pygments_lexer": "ipython3",
   "version": "3.7.0"
  }
 },
 "nbformat": 4,
 "nbformat_minor": 2
}
