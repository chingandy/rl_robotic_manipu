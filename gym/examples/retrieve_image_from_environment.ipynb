{
 "cells": [
  {
   "cell_type": "markdown",
   "metadata": {},
   "source": [
    "### Reacher-v2 Environment with CNN"
   ]
  },
  {
   "cell_type": "markdown",
   "metadata": {},
   "source": [
    "### Image of one state"
   ]
  },
  {
   "cell_type": "code",
   "execution_count": 1,
   "metadata": {},
   "outputs": [
    {
     "name": "stdout",
     "output_type": "stream",
     "text": [
      "Creating offscreen glfw\n",
      "State: (256, 256, 3)\n"
     ]
    }
   ],
   "source": [
    "import gym\n",
    "import numpy as np\n",
    "import random\n",
    "import matplotlib.pyplot as plt\n",
    "import cv2\n",
    "env = gym.make('Reacher-v101')\n",
    "state = env.reset()\n",
    "print(\"State:\",state.shape)"
   ]
  },
  {
   "cell_type": "markdown",
   "metadata": {},
   "source": [
    "### Save image with Matplotlib"
   ]
  },
  {
   "cell_type": "code",
   "execution_count": 8,
   "metadata": {},
   "outputs": [
    {
     "data": {
      "image/png": "[encoded data removed]",
      "text/plain": [
       "<Figure size 432x288 with 1 Axes>"
      ]
     },
     "metadata": {
      "needs_background": "light"
     },
     "output_type": "display_data"
    }
   ],
   "source": [
    "%matplotlib inline\n",
    "\n",
    "# Save the image without margin\n",
    "# def save_image(data, cm, fn):\n",
    "   \n",
    "#     sizes = np.shape(data)\n",
    "#     height = float(sizes[0])\n",
    "#     width = float(sizes[1])\n",
    "     \n",
    "#     fig = plt.figure()\n",
    "#     fig.set_size_inches(width/height, 1, forward=False)\n",
    "#     ax = plt.Axes(fig, [0., 0., 1., 1.])\n",
    "#     ax.set_axis_off()\n",
    "#     fig.add_axes(ax)\n",
    " \n",
    "#     ax.imshow(data, cmap=cm)\n",
    "#     plt.savefig(fn, dpi = height) \n",
    "#     plt.close()\n",
    "\n",
    "# save_image(state, None, 'test_mat_no_marg.png')\n",
    "\n",
    "# Save the image with margin\n",
    "plt.axis('off')\n",
    "plt.imshow(state)\n",
    "plt.savefig('/Users/chingandywu/pic/test_mat.png',transparent = True, bbox_inches = 'tight', pad_inches = 0)\n",
    "plt.show()\n"
   ]
  },
  {
   "cell_type": "markdown",
   "metadata": {},
   "source": [
    "### Save image with cv2"
   ]
  },
  {
   "cell_type": "code",
   "execution_count": 2,
   "metadata": {},
   "outputs": [
    {
     "data": {
      "text/plain": [
       "True"
      ]
     },
     "execution_count": 2,
     "metadata": {},
     "output_type": "execute_result"
    }
   ],
   "source": [
    "state = state.astype('uint8')\n",
    "cv2.imwrite('test_cv2_clr.png', cv2.cvtColor(state, cv2.COLOR_RGB2BGR))\n",
    "cv2.imwrite('test_cv2.png', state)"
   ]
  },
  {
   "cell_type": "code",
   "execution_count": 3,
   "metadata": {},
   "outputs": [],
   "source": [
    "#########################################################\n",
    "params = cv2.SimpleBlobDetector_Params()\n",
    "\n",
    "# Change thresholds\n",
    "params.minThreshold = 10\n",
    "params.maxThreshold = 256\n",
    "\n",
    "# Filter by Area\n",
    "params.filterByArea = True\n",
    "params.maxArea = 700\n",
    "params.minArea = 50\n",
    "\n",
    "# Filter by Circularity\n",
    "params.filterByCircularity = True\n",
    "params.minCircularity = 0.8\n",
    "\n",
    "# Filter by Convexity\n",
    "params.filterByConvexity = True\n",
    "params.minConvexity = 0.5\n",
    "\n",
    "# Filter by Inertia\n",
    "params.filterByInertia = True\n",
    "params.maxInertiaRatio = 10\n",
    "params.minInertiaRatio = 0.01\n",
    "\n",
    "# Filter by Color\n",
    "params.filterByColor = False\n",
    "#########################################################################"
   ]
  },
  {
   "cell_type": "markdown",
   "metadata": {},
   "source": [
    "### Show state directly"
   ]
  },
  {
   "cell_type": "code",
   "execution_count": 4,
   "metadata": {
    "scrolled": true
   },
   "outputs": [
    {
     "data": {
      "image/png": "[encoded data removed]",
      "text/plain": [
       "<Figure size 432x288 with 1 Axes>"
      ]
     },
     "metadata": {
      "needs_background": "light"
     },
     "output_type": "display_data"
    },
    {
     "name": "stdout",
     "output_type": "stream",
     "text": [
      "state:  (256, 256, 3) <class 'numpy.ndarray'>\n",
      "Keypoints:  [<KeyPoint 0x12265e420>]\n",
      "(72.5257339477539, 102.09203338623047)\n"
     ]
    }
   ],
   "source": [
    "im = state\n",
    "\n",
    "# scale_percent = 100 # percent of original size\n",
    "# width = int(im.shape[1] * scale_percent / 100)\n",
    "# height = int(im.shape[0] * scale_percent / 100)\n",
    "# dim = (width, height)\n",
    "# resize image\n",
    "# im = cv2.resize(im, dim, interpolation = cv2.INTER_AREA)\n",
    "# im = cv2.normalize(im,  None, 0, 255, cv2.NORM_MINMAX)\n",
    "%matplotlib inline\n",
    "plt.axis('off')\n",
    "plt.imshow(im)\n",
    "plt.show()\n",
    "detector = cv2.SimpleBlobDetector_create()\n",
    "print(\"state: \", im.shape, type(im))\n",
    "keypoints = detector.detect(im)\n",
    "print(\"Keypoints: \", keypoints)\n",
    "if keypoints:\n",
    "    print(keypoints[0].pt)"
   ]
  },
  {
   "cell_type": "markdown",
   "metadata": {},
   "source": [
    "### Read image by cv2 (test_mat.png)"
   ]
  },
  {
   "cell_type": "code",
   "execution_count": 25,
   "metadata": {},
   "outputs": [
    {
     "data": {
      "image/png": "[encoded data removed]",
      "text/plain": [
       "<Figure size 432x288 with 1 Axes>"
      ]
     },
     "metadata": {
      "needs_background": "light"
     },
     "output_type": "display_data"
    },
    {
     "name": "stdout",
     "output_type": "stream",
     "text": [
      "im_cv2:  (237, 243, 3) <class 'numpy.ndarray'>\n",
      "Max:  255\n",
      "Min:  0\n",
      "Keypoints:  [<KeyPoint 0x1083b4510>]\n",
      "(105.68199157714844, 142.40805053710938)\n"
     ]
    }
   ],
   "source": [
    "# im_cv2 = state\n",
    "# im_cv2[120:127,:,0] = [255]*128\n",
    "# im_cv2[120:127,:,1] = [255]*128\n",
    "# im_cv2[120:127,:,2] = [255]*128\n",
    "\n",
    "# im_cv2 = cv2.imread(\"test_cv2.png\")\n",
    "# im_cv2 = cv2.cvtColor(im_cv2, cv2.COLOR_BGR2RGB, 1);\n",
    "im_cv2 = cv2.imread(\"test_mat.png\")\n",
    "im_cv2 = cv2.cvtColor(im_cv2, cv2.COLOR_BGR2RGB, 1);\n",
    "%matplotlib inline\n",
    "plt.axis('off')\n",
    "plt.imshow(im_cv2)\n",
    "plt.show()\n",
    "detector = cv2.SimpleBlobDetector_create()\n",
    "print(\"im_cv2: \", im_cv2.shape, type(im_cv2))\n",
    "print(\"Max: \", im_cv2.max())\n",
    "print(\"Min: \", im_cv2.min())\n",
    "keypoints = detector.detect(im_cv2)\n",
    "print(\"Keypoints: \", keypoints)\n",
    "if keypoints:\n",
    "    print(keypoints[0].pt)"
   ]
  },
  {
   "cell_type": "markdown",
   "metadata": {},
   "source": [
    "### Read image by cv2 (test_mat_no_marg.png)"
   ]
  },
  {
   "cell_type": "code",
   "execution_count": 39,
   "metadata": {},
   "outputs": [
    {
     "name": "stdout",
     "output_type": "stream",
     "text": [
      "Max:  178\n",
      "Max:  178\n"
     ]
    },
    {
     "data": {
      "image/png": "[encoded data removed]",
      "text/plain": [
       "<Figure size 432x288 with 1 Axes>"
      ]
     },
     "metadata": {
      "needs_background": "light"
     },
     "output_type": "display_data"
    },
    {
     "name": "stdout",
     "output_type": "stream",
     "text": [
      "im_cv2:  (128, 128, 3) <class 'numpy.ndarray'>\n",
      "Max:  178\n",
      "Min:  0\n",
      "Keypoints:  []\n"
     ]
    }
   ],
   "source": [
    "im_cv2 = cv2.imread(\"test_mat_no_marg.png\")\n",
    "# im_cv2 = cv2.cvtColor(im_cv2, cv2.COLOR_BGR2RGB, 1);\n",
    "def rescale_img(arr):\n",
    "    return (arr - arr.min()) * (1/(arr.max() - arr.min()) * 255).astype('uint8')\n",
    "print(\"Max: \", im_cv2.max())\n",
    "im_cv2 = rescale_img(im_cv2)\n",
    "print(\"Max: \", im_cv2.max())\n",
    "%matplotlib inline\n",
    "plt.axis('off')\n",
    "plt.imshow(im_cv2)\n",
    "plt.show()\n",
    "detector = cv2.SimpleBlobDetector_create()\n",
    "print(\"im_cv2: \", im_cv2.shape, type(im_cv2))\n",
    "print(\"Max: \", im_cv2.max())\n",
    "print(\"Min: \", im_cv2.min())\n",
    "keypoints = detector.detect(im_cv2)\n",
    "print(\"Keypoints: \", keypoints)\n",
    "if keypoints:\n",
    "    print(keypoints[0].pt)"
   ]
  },
  {
   "cell_type": "code",
   "execution_count": 35,
   "metadata": {},
   "outputs": [
    {
     "name": "stdout",
     "output_type": "stream",
     "text": [
      "(2, 3)\n"
     ]
    }
   ],
   "source": [
    "x = np.array([[1,2,3], [2,3,4]])\n",
    "y = np.array([[1,2,3],[2, 3, 4]])\n",
    "np.array_equal(x, y)\n",
    "print(x.shape)\n",
    "# np.array_equal(state, im_cv2)"
   ]
  },
  {
   "cell_type": "markdown",
   "metadata": {},
   "source": [
    "### Read image by matplotlib"
   ]
  },
  {
   "cell_type": "code",
   "execution_count": 24,
   "metadata": {},
   "outputs": [
    {
     "name": "stdout",
     "output_type": "stream",
     "text": [
      "im_mat:  (128, 128, 4) <class 'numpy.ndarray'>\n"
     ]
    },
    {
     "ename": "error",
     "evalue": "OpenCV(3.4.5) /Users/travis/build/skvark/opencv-python/opencv/modules/features2d/src/blobdetector.cpp:322: error: (-210:Unsupported format or combination of formats) Blob detector only supports 8-bit images! in function 'detect'\n",
     "output_type": "error",
     "traceback": [
      "\u001b[0;31m---------------------------------------------------------------------------\u001b[0m",
      "\u001b[0;31merror\u001b[0m                                     Traceback (most recent call last)",
      "\u001b[0;32m<ipython-input-24-43cd6b25d0f3>\u001b[0m in \u001b[0;36m<module>\u001b[0;34m\u001b[0m\n\u001b[1;32m      9\u001b[0m \u001b[0;34m\u001b[0m\u001b[0m\n\u001b[1;32m     10\u001b[0m \u001b[0mdetector\u001b[0m \u001b[0;34m=\u001b[0m \u001b[0mcv2\u001b[0m\u001b[0;34m.\u001b[0m\u001b[0mSimpleBlobDetector_create\u001b[0m\u001b[0;34m(\u001b[0m\u001b[0;34m)\u001b[0m\u001b[0;34m\u001b[0m\u001b[0m\n\u001b[0;32m---> 11\u001b[0;31m \u001b[0mkeypoints\u001b[0m \u001b[0;34m=\u001b[0m \u001b[0mdetector\u001b[0m\u001b[0;34m.\u001b[0m\u001b[0mdetect\u001b[0m\u001b[0;34m(\u001b[0m\u001b[0mim_mat\u001b[0m\u001b[0;34m)\u001b[0m\u001b[0;34m\u001b[0m\u001b[0m\n\u001b[0m\u001b[1;32m     12\u001b[0m \u001b[0mprint\u001b[0m\u001b[0;34m(\u001b[0m\u001b[0;34m\"Keypoints: \"\u001b[0m\u001b[0;34m,\u001b[0m \u001b[0mkeypoints\u001b[0m\u001b[0;34m)\u001b[0m\u001b[0;34m\u001b[0m\u001b[0m\n\u001b[1;32m     13\u001b[0m \u001b[0;32mif\u001b[0m \u001b[0mkeypoints\u001b[0m\u001b[0;34m:\u001b[0m\u001b[0;34m\u001b[0m\u001b[0m\n",
      "\u001b[0;31merror\u001b[0m: OpenCV(3.4.5) /Users/travis/build/skvark/opencv-python/opencv/modules/features2d/src/blobdetector.cpp:322: error: (-210:Unsupported format or combination of formats) Blob detector only supports 8-bit images! in function 'detect'\n"
     ]
    }
   ],
   "source": [
    "import numpy as np\n",
    "im_mat = plt.imread(\"test_mat.png\")\n",
    "print(\"im_mat: \", im_mat.shape, type(im_mat))\n",
    "# im_mat = np.delete(im_mat, 3, axis=2)\n",
    "# print(\"im_mat: \", im_mat.shape, type(im_mat))\n",
    "\n",
    "im_mat = cv2.cvtColor(im_mat, cv2.COLOR_RGB2GRAY, 1);\n",
    "im_mat = cv2.cvtColor(im_mat, cv2.COLOR_GRAY2RGBA, 1);\n",
    "\n",
    "detector = cv2.SimpleBlobDetector_create()\n",
    "keypoints = detector.detect(im_mat)\n",
    "print(\"Keypoints: \", keypoints)\n",
    "if keypoints:\n",
    "    print(keypoints[0].pt)"
   ]
  },
  {
   "cell_type": "markdown",
   "metadata": {},
   "source": [
    "### See the difference of using different functions to read in the same image"
   ]
  },
  {
   "cell_type": "code",
   "execution_count": 144,
   "metadata": {},
   "outputs": [
    {
     "name": "stdout",
     "output_type": "stream",
     "text": [
      "<class 'numpy.uint8'>\n",
      "<class 'numpy.float32'>\n"
     ]
    }
   ],
   "source": [
    "im_1 = cv2.imread(\"test_mat.png\")\n",
    "print(type(im_1[:,:,1][0][0]))\n",
    "im_2 = plt.imread(\"test_mat.png\")\n",
    "print(type(im_2[:,:,1][0][0]))"
   ]
  },
  {
   "cell_type": "code",
   "execution_count": 145,
   "metadata": {},
   "outputs": [
    {
     "name": "stdout",
     "output_type": "stream",
     "text": [
      "<class 'numpy.uint8'>\n",
      "<class 'numpy.uint8'>\n"
     ]
    }
   ],
   "source": [
    "im_1 = cv2.imread(\"test_mat.png\")\n",
    "print(type(im_1[:,:,1][0][0]))\n",
    "im_2 = cv2.imread(\"test_cv2.png\")\n",
    "print(type(im_2[:,:,1][0][0]))"
   ]
  },
  {
   "cell_type": "code",
   "execution_count": 30,
   "metadata": {},
   "outputs": [
    {
     "name": "stdout",
     "output_type": "stream",
     "text": [
      "(128, 128, 3)\n",
      "[[158 158 158 ... 137 137 137]\n",
      " [158 158 120 ... 109 137 137]\n",
      " [158 124  44 ...  44 105 137]\n",
      " ...\n",
      " [137 105  44 ...  44 124 158]\n",
      " [137 137 109 ... 120 158 158]\n",
      " [137 137 137 ... 158 158 158]]\n"
     ]
    }
   ],
   "source": [
    "print(state.shape)\n",
    "print(state[:,:,1])"
   ]
  },
  {
   "cell_type": "code",
   "execution_count": 30,
   "metadata": {},
   "outputs": [
    {
     "name": "stdout",
     "output_type": "stream",
     "text": [
      "[[1 2 3]\n",
      " [4 5 6]\n",
      " [0 0 0]]\n"
     ]
    }
   ],
   "source": [
    "x = np.array([[1,2,3],[4,5,6]])\n",
    "x = np.vstack([x, [0,0,0]])\n",
    "print(x)"
   ]
  },
  {
   "cell_type": "code",
   "execution_count": null,
   "metadata": {},
   "outputs": [],
   "source": []
  }
 ],
 "metadata": {
  "kernelspec": {
   "display_name": ".venv",
   "language": "python",
   "name": ".venv"
  },
  "language_info": {
   "codemirror_mode": {
    "name": "ipython",
    "version": 3
   },
   "file_extension": ".py",
   "mimetype": "text/x-python",
   "name": "python",
   "nbconvert_exporter": "python",
   "pygments_lexer": "ipython3",
   "version": "3.7.0"
  }
 },
 "nbformat": 4,
 "nbformat_minor": 2
}
